{
 "cells": [
  {
   "cell_type": "markdown",
   "id": "b707f5e9-c476-453c-83d4-5b66395b3780",
   "metadata": {
    "tags": []
   },
   "source": [
    "## Get Data"
   ]
  },
  {
   "cell_type": "code",
   "execution_count": 1,
   "id": "183b98c4-ddd0-42ff-9aab-fcb46950c99e",
   "metadata": {},
   "outputs": [],
   "source": [
    "import pandas as pd"
   ]
  },
  {
   "cell_type": "code",
   "execution_count": 2,
   "id": "a2c9a881-5eb8-461b-a86f-338014adaed4",
   "metadata": {},
   "outputs": [],
   "source": [
    "train_df = pd.read_csv('../input/train_set.csv')\n",
    "val_df = pd.read_csv ('../input/val_set.csv')\n",
    "test_df = pd.read_csv('../input/test_set.csv')"
   ]
  },
  {
   "cell_type": "code",
   "execution_count": 3,
   "id": "3a6058c9-75f5-4618-9317-106ded5bb391",
   "metadata": {},
   "outputs": [
    {
     "name": "stdout",
     "output_type": "stream",
     "text": [
      "Train Set Shape: (6000, 7)\n",
      "Validation Set Shape: (1000, 7)\n",
      "Test Set Shape: (1000, 7)\n"
     ]
    }
   ],
   "source": [
    "print(f'Train Set Shape: {train_df.shape}')\n",
    "print(f'Validation Set Shape: {val_df.shape}')\n",
    "print(f'Test Set Shape: {test_df.shape}')"
   ]
  },
  {
   "cell_type": "markdown",
   "id": "1e55108c-6e37-4a67-aec2-6961bf2161f3",
   "metadata": {},
   "source": [
    "## Prepare Data"
   ]
  },
  {
   "cell_type": "markdown",
   "id": "52edb287-0ebc-4a80-851c-b1f0973cefbd",
   "metadata": {
    "tags": []
   },
   "source": [
    "### Tokenize and Create Padded Sequences"
   ]
  },
  {
   "cell_type": "code",
   "execution_count": 5,
   "id": "ecbe647c-8660-4186-b8ce-056b40ef1a32",
   "metadata": {},
   "outputs": [],
   "source": [
    "from tensorflow.keras.preprocessing.text import Tokenizer\n",
    "from tensorflow.keras.preprocessing.sequence import pad_sequences"
   ]
  },
  {
   "cell_type": "code",
   "execution_count": 6,
   "id": "8115e112-e833-44e3-add1-9e411c64e52a",
   "metadata": {},
   "outputs": [],
   "source": [
    "# Specify Size of Vocabulary\n",
    "vocab_size = 10000\n",
    "\n",
    "tokenizer = Tokenizer(num_words=vocab_size)  \n",
    "tokenizer.fit_on_texts(train_df['News Text'])  "
   ]
  },
  {
   "cell_type": "code",
   "execution_count": 7,
   "id": "52934223-f474-47b7-973f-ec61f06b0e12",
   "metadata": {},
   "outputs": [
    {
     "name": "stdout",
     "output_type": "stream",
     "text": [
      "54970\n"
     ]
    }
   ],
   "source": [
    "print (len(tokenizer.word_index))"
   ]
  },
  {
   "cell_type": "code",
   "execution_count": 8,
   "id": "0e36f0dc-5fd6-47ca-bb2f-0f9b5a48340d",
   "metadata": {},
   "outputs": [],
   "source": [
    "train_sequences = tokenizer.texts_to_sequences(train_df['News Text'])\n",
    "val_sequences = tokenizer.texts_to_sequences(val_df['News Text'])\n",
    "test_sequences = tokenizer.texts_to_sequences(test_df['News Text'])"
   ]
  },
  {
   "cell_type": "code",
   "execution_count": 9,
   "id": "b0b871f4-cd3f-4314-abb9-0aacb60f0afe",
   "metadata": {},
   "outputs": [],
   "source": [
    "# specify max size of document\n",
    "max_length = 100\n",
    "# pad sequences\n",
    "train_x = pad_sequences(train_sequences, maxlen=max_length, padding='post')\n",
    "val_x = pad_sequences(val_sequences, maxlen=max_length, padding='post')\n",
    "test_x = pad_sequences(test_sequences, maxlen=max_length, padding='post')"
   ]
  },
  {
   "cell_type": "code",
   "execution_count": 10,
   "id": "ef753c46-546f-4134-8926-c502b043afc9",
   "metadata": {},
   "outputs": [
    {
     "data": {
      "text/plain": [
       "(6000, 100)"
      ]
     },
     "execution_count": 10,
     "metadata": {},
     "output_type": "execute_result"
    }
   ],
   "source": [
    "train_x.shape"
   ]
  },
  {
   "cell_type": "code",
   "execution_count": 11,
   "id": "5b89d964-2ce5-4659-b2b4-9e53350449ad",
   "metadata": {},
   "outputs": [
    {
     "data": {
      "text/plain": [
       "(1000, 100)"
      ]
     },
     "execution_count": 11,
     "metadata": {},
     "output_type": "execute_result"
    }
   ],
   "source": [
    "val_x.shape"
   ]
  },
  {
   "cell_type": "code",
   "execution_count": 12,
   "id": "02d3578e-79c4-43e8-987a-65d8984c32a1",
   "metadata": {},
   "outputs": [
    {
     "data": {
      "text/plain": [
       "(1000, 100)"
      ]
     },
     "execution_count": 12,
     "metadata": {},
     "output_type": "execute_result"
    }
   ],
   "source": [
    "test_x.shape"
   ]
  },
  {
   "cell_type": "markdown",
   "id": "866598d0-3161-4f26-8a2b-82c5972da31c",
   "metadata": {},
   "source": [
    "### Get Label Data"
   ]
  },
  {
   "cell_type": "code",
   "execution_count": 13,
   "id": "aa7dff4d-9dfb-4526-8a4c-064a218b57e7",
   "metadata": {},
   "outputs": [],
   "source": [
    "from sklearn.preprocessing import LabelEncoder"
   ]
  },
  {
   "cell_type": "code",
   "execution_count": 14,
   "id": "62beef62-6320-4fbd-844f-e092d5b8d30b",
   "metadata": {},
   "outputs": [],
   "source": [
    "encoder = LabelEncoder()\n",
    "train_y = encoder.fit_transform(train_df[\"Category\"])\n",
    "val_y = encoder.fit_transform(val_df[\"Category\"])\n",
    "test_y = encoder.transform (test_df[\"Category\"])"
   ]
  },
  {
   "cell_type": "code",
   "execution_count": 15,
   "id": "8bf4d1e0-6124-4562-aa37-a2d7ac02cc74",
   "metadata": {},
   "outputs": [
    {
     "name": "stdout",
     "output_type": "stream",
     "text": [
      "train_y shape: (6000,)\n",
      "val_y shape: (1000,)\n",
      "test_y shape: (1000,)\n"
     ]
    }
   ],
   "source": [
    "print(f'train_y shape: {train_y.shape}')\n",
    "print(f'val_y shape: {val_y.shape}')\n",
    "print(f'test_y shape: {test_y.shape}')"
   ]
  },
  {
   "cell_type": "markdown",
   "id": "a41793ab-bdee-48cf-b1cc-662c82340f38",
   "metadata": {},
   "source": [
    "# Model Training"
   ]
  },
  {
   "cell_type": "code",
   "execution_count": 16,
   "id": "78855d5f-8956-430d-a2a5-68e4c5fb69b5",
   "metadata": {},
   "outputs": [],
   "source": [
    "from keras.models import Sequential\n",
    "from keras.layers import Dense, Embedding, LSTM, GRU"
   ]
  },
  {
   "cell_type": "markdown",
   "id": "b2e60a20-8cda-4ee6-8c47-7329ad894a27",
   "metadata": {},
   "source": [
    "### Function to Plot Losses"
   ]
  },
  {
   "cell_type": "code",
   "execution_count": 17,
   "id": "e5c64fa2-bbec-412a-9440-0574de6537e8",
   "metadata": {},
   "outputs": [],
   "source": [
    "import matplotlib.pyplot as plt\n",
    "\n",
    "def plot_losses(history):\n",
    "    \n",
    "    train_loss = history.history[\"loss\"]\n",
    "    val_loss = history.history[\"val_loss\"]\n",
    "    \n",
    "    epochs = range(len(train_loss))\n",
    "    \n",
    "    # Plot\n",
    "    plt.plot(epochs, train_loss, label=\"Training Loss\", color=\"blue\")\n",
    "    plt.plot(epochs, val_loss, label=\"Validation Loss\", color=\"red\")\n",
    "\n",
    "    # Labels and legend\n",
    "    plt.xlabel(\"Epochs\")\n",
    "    plt.ylabel(\"Loss\")\n",
    "    plt.title(\"Training vs Validation Loss\")\n",
    "    plt.legend()\n",
    "    plt.show()"
   ]
  },
  {
   "cell_type": "markdown",
   "id": "83c2bf83-9f25-48ce-aac3-7969927ae3e4",
   "metadata": {},
   "source": [
    "### Early Stopping Callback"
   ]
  },
  {
   "cell_type": "code",
   "execution_count": 18,
   "id": "3dcb7df7-8b10-47a4-b239-c752c0992c61",
   "metadata": {},
   "outputs": [],
   "source": [
    "from keras.callbacks import EarlyStopping\n",
    "\n",
    "# Early stopping\n",
    "early_stopping = EarlyStopping(\n",
    "    monitor='val_loss', \n",
    "    patience=5,\n",
    "    restore_best_weights=True\n",
    ")"
   ]
  },
  {
   "cell_type": "markdown",
   "id": "74a00a96-da3a-4908-8a91-196bba89b7ab",
   "metadata": {},
   "source": [
    "## Model 1"
   ]
  },
  {
   "cell_type": "markdown",
   "id": "92d7b37e-1345-439c-940d-a23be7f5b4f4",
   "metadata": {},
   "source": [
    "### Add dropout, both for the input layer and for the recurrent connections within an LSTM layer"
   ]
  },
  {
   "cell_type": "code",
   "execution_count": 32,
   "id": "5f1a1121-806e-45d6-8192-9e02edfccc1a",
   "metadata": {},
   "outputs": [],
   "source": [
    "# create model\n",
    "model_1 = Sequential()\n",
    "model_1.add(Embedding(vocab_size, 32))\n",
    "model_1.add(LSTM(8, dropout=0.2, recurrent_dropout=0.2))\n",
    "model_1.add(Dense(4, activation='sigmoid'))\n",
    "model_1.compile(optimizer='rmsprop', loss='sparse_categorical_crossentropy', metrics=['acc'])"
   ]
  },
  {
   "cell_type": "code",
   "execution_count": 33,
   "id": "32bf9737-3abe-432e-800d-f68086083429",
   "metadata": {},
   "outputs": [
    {
     "name": "stdout",
     "output_type": "stream",
     "text": [
      "Epoch 1/40\n",
      "\u001b[1m750/750\u001b[0m \u001b[32m━━━━━━━━━━━━━━━━━━━━\u001b[0m\u001b[37m\u001b[0m \u001b[1m15s\u001b[0m 18ms/step - acc: 0.4599 - loss: 1.2043 - val_acc: 0.6680 - val_loss: 0.7898\n",
      "Epoch 2/40\n",
      "\u001b[1m750/750\u001b[0m \u001b[32m━━━━━━━━━━━━━━━━━━━━\u001b[0m\u001b[37m\u001b[0m \u001b[1m14s\u001b[0m 19ms/step - acc: 0.6487 - loss: 0.8503 - val_acc: 0.7540 - val_loss: 0.6352\n",
      "Epoch 3/40\n",
      "\u001b[1m750/750\u001b[0m \u001b[32m━━━━━━━━━━━━━━━━━━━━\u001b[0m\u001b[37m\u001b[0m \u001b[1m14s\u001b[0m 18ms/step - acc: 0.7225 - loss: 0.7180 - val_acc: 0.8050 - val_loss: 0.5542\n",
      "Epoch 4/40\n",
      "\u001b[1m750/750\u001b[0m \u001b[32m━━━━━━━━━━━━━━━━━━━━\u001b[0m\u001b[37m\u001b[0m \u001b[1m14s\u001b[0m 19ms/step - acc: 0.8086 - loss: 0.5777 - val_acc: 0.9020 - val_loss: 0.3864\n",
      "Epoch 5/40\n",
      "\u001b[1m750/750\u001b[0m \u001b[32m━━━━━━━━━━━━━━━━━━━━\u001b[0m\u001b[37m\u001b[0m \u001b[1m14s\u001b[0m 19ms/step - acc: 0.8763 - loss: 0.4250 - val_acc: 0.9100 - val_loss: 0.3521\n",
      "Epoch 6/40\n",
      "\u001b[1m750/750\u001b[0m \u001b[32m━━━━━━━━━━━━━━━━━━━━\u001b[0m\u001b[37m\u001b[0m \u001b[1m14s\u001b[0m 19ms/step - acc: 0.9092 - loss: 0.3327 - val_acc: 0.9210 - val_loss: 0.3206\n",
      "Epoch 7/40\n",
      "\u001b[1m750/750\u001b[0m \u001b[32m━━━━━━━━━━━━━━━━━━━━\u001b[0m\u001b[37m\u001b[0m \u001b[1m14s\u001b[0m 19ms/step - acc: 0.9229 - loss: 0.3003 - val_acc: 0.9290 - val_loss: 0.2924\n",
      "Epoch 8/40\n",
      "\u001b[1m750/750\u001b[0m \u001b[32m━━━━━━━━━━━━━━━━━━━━\u001b[0m\u001b[37m\u001b[0m \u001b[1m14s\u001b[0m 19ms/step - acc: 0.9361 - loss: 0.2501 - val_acc: 0.9270 - val_loss: 0.2953\n",
      "Epoch 9/40\n",
      "\u001b[1m750/750\u001b[0m \u001b[32m━━━━━━━━━━━━━━━━━━━━\u001b[0m\u001b[37m\u001b[0m \u001b[1m14s\u001b[0m 19ms/step - acc: 0.9434 - loss: 0.2276 - val_acc: 0.9310 - val_loss: 0.2734\n",
      "Epoch 10/40\n",
      "\u001b[1m750/750\u001b[0m \u001b[32m━━━━━━━━━━━━━━━━━━━━\u001b[0m\u001b[37m\u001b[0m \u001b[1m14s\u001b[0m 19ms/step - acc: 0.9548 - loss: 0.1848 - val_acc: 0.9300 - val_loss: 0.2771\n",
      "Epoch 11/40\n",
      "\u001b[1m750/750\u001b[0m \u001b[32m━━━━━━━━━━━━━━━━━━━━\u001b[0m\u001b[37m\u001b[0m \u001b[1m15s\u001b[0m 20ms/step - acc: 0.9538 - loss: 0.1888 - val_acc: 0.9420 - val_loss: 0.2551\n",
      "Epoch 12/40\n",
      "\u001b[1m750/750\u001b[0m \u001b[32m━━━━━━━━━━━━━━━━━━━━\u001b[0m\u001b[37m\u001b[0m \u001b[1m15s\u001b[0m 19ms/step - acc: 0.9629 - loss: 0.1555 - val_acc: 0.9370 - val_loss: 0.2604\n",
      "Epoch 13/40\n",
      "\u001b[1m750/750\u001b[0m \u001b[32m━━━━━━━━━━━━━━━━━━━━\u001b[0m\u001b[37m\u001b[0m \u001b[1m14s\u001b[0m 19ms/step - acc: 0.9705 - loss: 0.1249 - val_acc: 0.9380 - val_loss: 0.2704\n",
      "Epoch 14/40\n",
      "\u001b[1m750/750\u001b[0m \u001b[32m━━━━━━━━━━━━━━━━━━━━\u001b[0m\u001b[37m\u001b[0m \u001b[1m15s\u001b[0m 20ms/step - acc: 0.9733 - loss: 0.1174 - val_acc: 0.9400 - val_loss: 0.2777\n",
      "Epoch 15/40\n",
      "\u001b[1m750/750\u001b[0m \u001b[32m━━━━━━━━━━━━━━━━━━━━\u001b[0m\u001b[37m\u001b[0m \u001b[1m15s\u001b[0m 19ms/step - acc: 0.9820 - loss: 0.0831 - val_acc: 0.9360 - val_loss: 0.2734\n",
      "Epoch 16/40\n",
      "\u001b[1m750/750\u001b[0m \u001b[32m━━━━━━━━━━━━━━━━━━━━\u001b[0m\u001b[37m\u001b[0m \u001b[1m15s\u001b[0m 19ms/step - acc: 0.9833 - loss: 0.0796 - val_acc: 0.9400 - val_loss: 0.2809\n"
     ]
    }
   ],
   "source": [
    "history_1 = model_1.fit(train_x, train_y, epochs=40, batch_size=8, validation_data=(val_x, val_y), callbacks=early_stopping)"
   ]
  },
  {
   "cell_type": "code",
   "execution_count": 34,
   "id": "53a38e41-8079-40e8-a100-28937d0821e8",
   "metadata": {},
   "outputs": [
    {
     "data": {
      "image/png": "[encoded data removed]",
      "text/plain": [
       "<Figure size 640x480 with 1 Axes>"
      ]
     },
     "metadata": {},
     "output_type": "display_data"
    }
   ],
   "source": [
    "plot_losses(history_1)"
   ]
  },
  {
   "cell_type": "markdown",
   "id": "4b94edc0-0d2d-481f-9b7d-f85ad41fa8c9",
   "metadata": {},
   "source": [
    "### Conclusion: Using Recurrent Dropout, we are able to reach lower validation loss and higher validation accuracy than the best LSTM model (with learned embeddings). Loss decreases from 0.2815 to 0.2551, accuracy goes from 93.6 to 94.2"
   ]
  },
  {
   "cell_type": "markdown",
   "id": "276c1bad-cac5-424b-b0bb-d146a51eb9b6",
   "metadata": {},
   "source": [
    "## Model 2"
   ]
  },
  {
   "cell_type": "markdown",
   "id": "e89a1ec3-cbc2-4ccb-984e-099ab4a9c72b",
   "metadata": {},
   "source": [
    "### Increase Nodes"
   ]
  },
  {
   "cell_type": "code",
   "execution_count": 37,
   "id": "38d03e16-17b8-42ae-ab85-4878e807b143",
   "metadata": {},
   "outputs": [],
   "source": [
    "# create model\n",
    "model_2 = Sequential()\n",
    "model_2.add(Embedding(vocab_size, 32))\n",
    "model_2.add(LSTM(16, dropout=0.2, recurrent_dropout=0.2))\n",
    "model_2.add(Dense(4, activation='sigmoid'))\n",
    "model_2.compile(optimizer='rmsprop', loss='sparse_categorical_crossentropy', metrics=['acc'])"
   ]
  },
  {
   "cell_type": "code",
   "execution_count": 38,
   "id": "3c5d6ea3-d72a-4957-a75b-6bff365fffa0",
   "metadata": {},
   "outputs": [
    {
     "name": "stdout",
     "output_type": "stream",
     "text": [
      "Epoch 1/20\n",
      "\u001b[1m750/750\u001b[0m \u001b[32m━━━━━━━━━━━━━━━━━━━━\u001b[0m\u001b[37m\u001b[0m \u001b[1m16s\u001b[0m 20ms/step - acc: 0.4377 - loss: 1.1833 - val_acc: 0.6240 - val_loss: 0.8840\n",
      "Epoch 2/20\n",
      "\u001b[1m750/750\u001b[0m \u001b[32m━━━━━━━━━━━━━━━━━━━━\u001b[0m\u001b[37m\u001b[0m \u001b[1m15s\u001b[0m 20ms/step - acc: 0.6521 - loss: 0.8303 - val_acc: 0.7590 - val_loss: 0.6383\n",
      "Epoch 3/20\n",
      "\u001b[1m750/750\u001b[0m \u001b[32m━━━━━━━━━━━━━━━━━━━━\u001b[0m\u001b[37m\u001b[0m \u001b[1m15s\u001b[0m 20ms/step - acc: 0.7706 - loss: 0.6314 - val_acc: 0.8690 - val_loss: 0.4326\n",
      "Epoch 4/20\n",
      "\u001b[1m750/750\u001b[0m \u001b[32m━━━━━━━━━━━━━━━━━━━━\u001b[0m\u001b[37m\u001b[0m \u001b[1m15s\u001b[0m 20ms/step - acc: 0.8828 - loss: 0.4173 - val_acc: 0.9200 - val_loss: 0.3309\n",
      "Epoch 5/20\n",
      "\u001b[1m750/750\u001b[0m \u001b[32m━━━━━━━━━━━━━━━━━━━━\u001b[0m\u001b[37m\u001b[0m \u001b[1m15s\u001b[0m 20ms/step - acc: 0.9086 - loss: 0.3422 - val_acc: 0.9110 - val_loss: 0.3166\n",
      "Epoch 6/20\n",
      "\u001b[1m750/750\u001b[0m \u001b[32m━━━━━━━━━━━━━━━━━━━━\u001b[0m\u001b[37m\u001b[0m \u001b[1m15s\u001b[0m 20ms/step - acc: 0.9264 - loss: 0.2798 - val_acc: 0.9250 - val_loss: 0.2986\n",
      "Epoch 7/20\n",
      "\u001b[1m750/750\u001b[0m \u001b[32m━━━━━━━━━━━━━━━━━━━━\u001b[0m\u001b[37m\u001b[0m \u001b[1m15s\u001b[0m 20ms/step - acc: 0.9316 - loss: 0.2550 - val_acc: 0.9190 - val_loss: 0.2983\n",
      "Epoch 8/20\n",
      "\u001b[1m750/750\u001b[0m \u001b[32m━━━━━━━━━━━━━━━━━━━━\u001b[0m\u001b[37m\u001b[0m \u001b[1m15s\u001b[0m 20ms/step - acc: 0.9423 - loss: 0.2173 - val_acc: 0.9230 - val_loss: 0.3108\n",
      "Epoch 9/20\n",
      "\u001b[1m750/750\u001b[0m \u001b[32m━━━━━━━━━━━━━━━━━━━━\u001b[0m\u001b[37m\u001b[0m \u001b[1m16s\u001b[0m 21ms/step - acc: 0.9561 - loss: 0.1846 - val_acc: 0.9340 - val_loss: 0.2620\n",
      "Epoch 10/20\n",
      "\u001b[1m750/750\u001b[0m \u001b[32m━━━━━━━━━━━━━━━━━━━━\u001b[0m\u001b[37m\u001b[0m \u001b[1m16s\u001b[0m 21ms/step - acc: 0.9582 - loss: 0.1678 - val_acc: 0.9280 - val_loss: 0.2711\n",
      "Epoch 11/20\n",
      "\u001b[1m750/750\u001b[0m \u001b[32m━━━━━━━━━━━━━━━━━━━━\u001b[0m\u001b[37m\u001b[0m \u001b[1m16s\u001b[0m 21ms/step - acc: 0.9654 - loss: 0.1324 - val_acc: 0.9270 - val_loss: 0.2852\n",
      "Epoch 12/20\n",
      "\u001b[1m750/750\u001b[0m \u001b[32m━━━━━━━━━━━━━━━━━━━━\u001b[0m\u001b[37m\u001b[0m \u001b[1m16s\u001b[0m 21ms/step - acc: 0.9675 - loss: 0.1261 - val_acc: 0.9330 - val_loss: 0.2911\n",
      "Epoch 13/20\n",
      "\u001b[1m750/750\u001b[0m \u001b[32m━━━━━━━━━━━━━━━━━━━━\u001b[0m\u001b[37m\u001b[0m \u001b[1m16s\u001b[0m 21ms/step - acc: 0.9716 - loss: 0.1196 - val_acc: 0.9280 - val_loss: 0.3042\n",
      "Epoch 14/20\n",
      "\u001b[1m750/750\u001b[0m \u001b[32m━━━━━━━━━━━━━━━━━━━━\u001b[0m\u001b[37m\u001b[0m \u001b[1m16s\u001b[0m 21ms/step - acc: 0.9778 - loss: 0.0901 - val_acc: 0.9310 - val_loss: 0.3130\n"
     ]
    }
   ],
   "source": [
    "history_2 = model_2.fit(train_x, train_y, epochs=20, batch_size=8, validation_data=(val_x, val_y), callbacks=early_stopping)"
   ]
  },
  {
   "cell_type": "code",
   "execution_count": 39,
   "id": "93dcca41-89ac-4226-944c-4c85fbac0118",
   "metadata": {},
   "outputs": [
    {
     "data": {
      "image/png": "[encoded data removed]",
      "text/plain": [
       "<Figure size 640x480 with 1 Axes>"
      ]
     },
     "metadata": {},
     "output_type": "display_data"
    }
   ],
   "source": [
    "plot_losses(history_2)"
   ]
  },
  {
   "cell_type": "markdown",
   "id": "7b3410bf-0477-4dd1-ac9a-f8650d8cfe0b",
   "metadata": {},
   "source": [
    "### Conclusion: Increasing nodes to 16 reduces performance. However, it is still better than the best model without recurrent dropout"
   ]
  },
  {
   "cell_type": "markdown",
   "id": "06ac4c87-00e9-4d79-8db1-26e3dd3b7c85",
   "metadata": {},
   "source": [
    "## Model 3"
   ]
  },
  {
   "cell_type": "markdown",
   "id": "3c672d42-bf9b-4f8c-a8de-7f4b2e375868",
   "metadata": {},
   "source": [
    "### Change Nodes to 12, from 16"
   ]
  },
  {
   "cell_type": "code",
   "execution_count": 40,
   "id": "e12e97d0-7e79-4751-8cd1-356f670abac4",
   "metadata": {},
   "outputs": [],
   "source": [
    "# create model\n",
    "model_3 = Sequential()\n",
    "model_3.add(Embedding(vocab_size, 32))\n",
    "model_3.add(LSTM(12, dropout=0.2, recurrent_dropout=0.2))\n",
    "model_3.add(Dense(4, activation='sigmoid'))\n",
    "model_3.compile(optimizer='rmsprop', loss='sparse_categorical_crossentropy', metrics=['acc'])"
   ]
  },
  {
   "cell_type": "code",
   "execution_count": 41,
   "id": "844e40e6-ca10-4231-b5d4-f736e67b491b",
   "metadata": {},
   "outputs": [
    {
     "name": "stdout",
     "output_type": "stream",
     "text": [
      "Epoch 1/20\n",
      "\u001b[1m750/750\u001b[0m \u001b[32m━━━━━━━━━━━━━━━━━━━━\u001b[0m\u001b[37m\u001b[0m \u001b[1m17s\u001b[0m 21ms/step - acc: 0.4154 - loss: 1.2236 - val_acc: 0.8470 - val_loss: 0.6336\n",
      "Epoch 2/20\n",
      "\u001b[1m750/750\u001b[0m \u001b[32m━━━━━━━━━━━━━━━━━━━━\u001b[0m\u001b[37m\u001b[0m \u001b[1m15s\u001b[0m 21ms/step - acc: 0.7995 - loss: 0.6783 - val_acc: 0.8880 - val_loss: 0.4348\n",
      "Epoch 3/20\n",
      "\u001b[1m750/750\u001b[0m \u001b[32m━━━━━━━━━━━━━━━━━━━━\u001b[0m\u001b[37m\u001b[0m \u001b[1m16s\u001b[0m 21ms/step - acc: 0.8509 - loss: 0.5120 - val_acc: 0.9000 - val_loss: 0.3834\n",
      "Epoch 4/20\n",
      "\u001b[1m750/750\u001b[0m \u001b[32m━━━━━━━━━━━━━━━━━━━━\u001b[0m\u001b[37m\u001b[0m \u001b[1m16s\u001b[0m 21ms/step - acc: 0.8916 - loss: 0.3922 - val_acc: 0.9150 - val_loss: 0.3341\n",
      "Epoch 5/20\n",
      "\u001b[1m750/750\u001b[0m \u001b[32m━━━━━━━━━━━━━━━━━━━━\u001b[0m\u001b[37m\u001b[0m \u001b[1m16s\u001b[0m 21ms/step - acc: 0.9031 - loss: 0.3671 - val_acc: 0.9200 - val_loss: 0.3258\n",
      "Epoch 6/20\n",
      "\u001b[1m750/750\u001b[0m \u001b[32m━━━━━━━━━━━━━━━━━━━━\u001b[0m\u001b[37m\u001b[0m \u001b[1m18s\u001b[0m 24ms/step - acc: 0.9199 - loss: 0.3176 - val_acc: 0.9130 - val_loss: 0.3441\n",
      "Epoch 7/20\n",
      "\u001b[1m750/750\u001b[0m \u001b[32m━━━━━━━━━━━━━━━━━━━━\u001b[0m\u001b[37m\u001b[0m \u001b[1m20s\u001b[0m 27ms/step - acc: 0.9322 - loss: 0.2829 - val_acc: 0.9180 - val_loss: 0.3309\n",
      "Epoch 8/20\n",
      "\u001b[1m750/750\u001b[0m \u001b[32m━━━━━━━━━━━━━━━━━━━━\u001b[0m\u001b[37m\u001b[0m \u001b[1m18s\u001b[0m 23ms/step - acc: 0.9330 - loss: 0.2628 - val_acc: 0.9200 - val_loss: 0.3172\n",
      "Epoch 9/20\n",
      "\u001b[1m750/750\u001b[0m \u001b[32m━━━━━━━━━━━━━━━━━━━━\u001b[0m\u001b[37m\u001b[0m \u001b[1m20s\u001b[0m 26ms/step - acc: 0.9417 - loss: 0.2365 - val_acc: 0.9290 - val_loss: 0.2970\n",
      "Epoch 10/20\n",
      "\u001b[1m750/750\u001b[0m \u001b[32m━━━━━━━━━━━━━━━━━━━━\u001b[0m\u001b[37m\u001b[0m \u001b[1m19s\u001b[0m 26ms/step - acc: 0.9466 - loss: 0.2261 - val_acc: 0.9300 - val_loss: 0.2849\n",
      "Epoch 11/20\n",
      "\u001b[1m750/750\u001b[0m \u001b[32m━━━━━━━━━━━━━━━━━━━━\u001b[0m\u001b[37m\u001b[0m \u001b[1m18s\u001b[0m 24ms/step - acc: 0.9495 - loss: 0.1951 - val_acc: 0.9330 - val_loss: 0.2888\n",
      "Epoch 12/20\n",
      "\u001b[1m750/750\u001b[0m \u001b[32m━━━━━━━━━━━━━━━━━━━━\u001b[0m\u001b[37m\u001b[0m \u001b[1m18s\u001b[0m 24ms/step - acc: 0.9551 - loss: 0.1817 - val_acc: 0.9240 - val_loss: 0.3085\n",
      "Epoch 13/20\n",
      "\u001b[1m750/750\u001b[0m \u001b[32m━━━━━━━━━━━━━━━━━━━━\u001b[0m\u001b[37m\u001b[0m \u001b[1m18s\u001b[0m 24ms/step - acc: 0.9635 - loss: 0.1477 - val_acc: 0.9290 - val_loss: 0.3041\n",
      "Epoch 14/20\n",
      "\u001b[1m750/750\u001b[0m \u001b[32m━━━━━━━━━━━━━━━━━━━━\u001b[0m\u001b[37m\u001b[0m \u001b[1m18s\u001b[0m 24ms/step - acc: 0.9592 - loss: 0.1560 - val_acc: 0.9300 - val_loss: 0.2993\n",
      "Epoch 15/20\n",
      "\u001b[1m750/750\u001b[0m \u001b[32m━━━━━━━━━━━━━━━━━━━━\u001b[0m\u001b[37m\u001b[0m \u001b[1m18s\u001b[0m 23ms/step - acc: 0.9740 - loss: 0.1040 - val_acc: 0.9330 - val_loss: 0.2824\n",
      "Epoch 16/20\n",
      "\u001b[1m750/750\u001b[0m \u001b[32m━━━━━━━━━━━━━━━━━━━━\u001b[0m\u001b[37m\u001b[0m \u001b[1m19s\u001b[0m 26ms/step - acc: 0.9739 - loss: 0.1028 - val_acc: 0.9290 - val_loss: 0.2978\n",
      "Epoch 17/20\n",
      "\u001b[1m750/750\u001b[0m \u001b[32m━━━━━━━━━━━━━━━━━━━━\u001b[0m\u001b[37m\u001b[0m \u001b[1m21s\u001b[0m 28ms/step - acc: 0.9778 - loss: 0.0893 - val_acc: 0.9290 - val_loss: 0.3122\n",
      "Epoch 18/20\n",
      "\u001b[1m750/750\u001b[0m \u001b[32m━━━━━━━━━━━━━━━━━━━━\u001b[0m\u001b[37m\u001b[0m \u001b[1m18s\u001b[0m 24ms/step - acc: 0.9842 - loss: 0.0664 - val_acc: 0.9320 - val_loss: 0.2886\n",
      "Epoch 19/20\n",
      "\u001b[1m750/750\u001b[0m \u001b[32m━━━━━━━━━━━━━━━━━━━━\u001b[0m\u001b[37m\u001b[0m \u001b[1m18s\u001b[0m 23ms/step - acc: 0.9858 - loss: 0.0622 - val_acc: 0.9320 - val_loss: 0.3172\n",
      "Epoch 20/20\n",
      "\u001b[1m750/750\u001b[0m \u001b[32m━━━━━━━━━━━━━━━━━━━━\u001b[0m\u001b[37m\u001b[0m \u001b[1m23s\u001b[0m 31ms/step - acc: 0.9865 - loss: 0.0564 - val_acc: 0.9380 - val_loss: 0.3301\n"
     ]
    }
   ],
   "source": [
    "history_3 = model_3.fit(train_x, train_y, epochs=20, batch_size=8, validation_data=(val_x, val_y), callbacks=early_stopping)"
   ]
  },
  {
   "cell_type": "code",
   "execution_count": 42,
   "id": "16ee757d-ec99-48bd-a345-387893151be1",
   "metadata": {},
   "outputs": [
    {
     "data": {
      "image/png": "[encoded data removed]",
      "text/plain": [
       "<Figure size 640x480 with 1 Axes>"
      ]
     },
     "metadata": {},
     "output_type": "display_data"
    }
   ],
   "source": [
    "plot_losses(history_3)"
   ]
  },
  {
   "cell_type": "markdown",
   "id": "6cec5a2c-6213-4acc-9d08-4f3b89c82ade",
   "metadata": {},
   "source": [
    "### Conclusion: Model performance is worse compared to model with just 8 nodes"
   ]
  },
  {
   "cell_type": "markdown",
   "id": "c7afc42b-287a-44e6-842c-8000b61aa64b",
   "metadata": {},
   "source": [
    "## Model 4"
   ]
  },
  {
   "cell_type": "markdown",
   "id": "8710326e-384a-420f-87d9-21f227586a76",
   "metadata": {},
   "source": [
    "### Increase Recurrent Dropout"
   ]
  },
  {
   "cell_type": "code",
   "execution_count": 43,
   "id": "c26f7a13-eda7-4fd4-bc9e-81a08063574f",
   "metadata": {},
   "outputs": [],
   "source": [
    "# create model\n",
    "model_4 = Sequential()\n",
    "model_4.add(Embedding(vocab_size, 32))\n",
    "model_4.add(LSTM(8, dropout=0.2, recurrent_dropout=0.25))\n",
    "model_4.add(Dense(4, activation='sigmoid'))\n",
    "model_4.compile(optimizer='rmsprop', loss='sparse_categorical_crossentropy', metrics=['acc'])"
   ]
  },
  {
   "cell_type": "code",
   "execution_count": 44,
   "id": "afcdaf11-9fa2-4a12-a83c-483c8598e711",
   "metadata": {},
   "outputs": [
    {
     "name": "stdout",
     "output_type": "stream",
     "text": [
      "Epoch 1/20\n",
      "\u001b[1m750/750\u001b[0m \u001b[32m━━━━━━━━━━━━━━━━━━━━\u001b[0m\u001b[37m\u001b[0m \u001b[1m10s\u001b[0m 12ms/step - acc: 0.3989 - loss: 1.2693 - val_acc: 0.5900 - val_loss: 0.9079\n",
      "Epoch 2/20\n",
      "\u001b[1m750/750\u001b[0m \u001b[32m━━━━━━━━━━━━━━━━━━━━\u001b[0m\u001b[37m\u001b[0m \u001b[1m9s\u001b[0m 12ms/step - acc: 0.5957 - loss: 0.9417 - val_acc: 0.6900 - val_loss: 0.7582\n",
      "Epoch 3/20\n",
      "\u001b[1m750/750\u001b[0m \u001b[32m━━━━━━━━━━━━━━━━━━━━\u001b[0m\u001b[37m\u001b[0m \u001b[1m9s\u001b[0m 12ms/step - acc: 0.6828 - loss: 0.7851 - val_acc: 0.8350 - val_loss: 0.5525\n",
      "Epoch 4/20\n",
      "\u001b[1m750/750\u001b[0m \u001b[32m━━━━━━━━━━━━━━━━━━━━\u001b[0m\u001b[37m\u001b[0m \u001b[1m9s\u001b[0m 12ms/step - acc: 0.7774 - loss: 0.6317 - val_acc: 0.9000 - val_loss: 0.4017\n",
      "Epoch 5/20\n",
      "\u001b[1m750/750\u001b[0m \u001b[32m━━━━━━━━━━━━━━━━━━━━\u001b[0m\u001b[37m\u001b[0m \u001b[1m9s\u001b[0m 12ms/step - acc: 0.8625 - loss: 0.4620 - val_acc: 0.9050 - val_loss: 0.3621\n",
      "Epoch 6/20\n",
      "\u001b[1m750/750\u001b[0m \u001b[32m━━━━━━━━━━━━━━━━━━━━\u001b[0m\u001b[37m\u001b[0m \u001b[1m9s\u001b[0m 12ms/step - acc: 0.8956 - loss: 0.3585 - val_acc: 0.9260 - val_loss: 0.3084\n",
      "Epoch 7/20\n",
      "\u001b[1m750/750\u001b[0m \u001b[32m━━━━━━━━━━━━━━━━━━━━\u001b[0m\u001b[37m\u001b[0m \u001b[1m9s\u001b[0m 12ms/step - acc: 0.9206 - loss: 0.2939 - val_acc: 0.9270 - val_loss: 0.2864\n",
      "Epoch 8/20\n",
      "\u001b[1m750/750\u001b[0m \u001b[32m━━━━━━━━━━━━━━━━━━━━\u001b[0m\u001b[37m\u001b[0m \u001b[1m9s\u001b[0m 12ms/step - acc: 0.9244 - loss: 0.2770 - val_acc: 0.9260 - val_loss: 0.2774\n",
      "Epoch 9/20\n",
      "\u001b[1m750/750\u001b[0m \u001b[32m━━━━━━━━━━━━━━━━━━━━\u001b[0m\u001b[37m\u001b[0m \u001b[1m9s\u001b[0m 12ms/step - acc: 0.9413 - loss: 0.2239 - val_acc: 0.9290 - val_loss: 0.2878\n",
      "Epoch 10/20\n",
      "\u001b[1m750/750\u001b[0m \u001b[32m━━━━━━━━━━━━━━━━━━━━\u001b[0m\u001b[37m\u001b[0m \u001b[1m9s\u001b[0m 12ms/step - acc: 0.9469 - loss: 0.2019 - val_acc: 0.9330 - val_loss: 0.2717\n",
      "Epoch 11/20\n",
      "\u001b[1m750/750\u001b[0m \u001b[32m━━━━━━━━━━━━━━━━━━━━\u001b[0m\u001b[37m\u001b[0m \u001b[1m9s\u001b[0m 12ms/step - acc: 0.9559 - loss: 0.1799 - val_acc: 0.9360 - val_loss: 0.2617\n",
      "Epoch 12/20\n",
      "\u001b[1m750/750\u001b[0m \u001b[32m━━━━━━━━━━━━━━━━━━━━\u001b[0m\u001b[37m\u001b[0m \u001b[1m9s\u001b[0m 12ms/step - acc: 0.9652 - loss: 0.1336 - val_acc: 0.9300 - val_loss: 0.2883\n",
      "Epoch 13/20\n",
      "\u001b[1m750/750\u001b[0m \u001b[32m━━━━━━━━━━━━━━━━━━━━\u001b[0m\u001b[37m\u001b[0m \u001b[1m9s\u001b[0m 12ms/step - acc: 0.9713 - loss: 0.1141 - val_acc: 0.9350 - val_loss: 0.3020\n",
      "Epoch 14/20\n",
      "\u001b[1m750/750\u001b[0m \u001b[32m━━━━━━━━━━━━━━━━━━━━\u001b[0m\u001b[37m\u001b[0m \u001b[1m10s\u001b[0m 13ms/step - acc: 0.9819 - loss: 0.0742 - val_acc: 0.9350 - val_loss: 0.2848\n",
      "Epoch 15/20\n",
      "\u001b[1m750/750\u001b[0m \u001b[32m━━━━━━━━━━━━━━━━━━━━\u001b[0m\u001b[37m\u001b[0m \u001b[1m10s\u001b[0m 13ms/step - acc: 0.9820 - loss: 0.0739 - val_acc: 0.9360 - val_loss: 0.2935\n",
      "Epoch 16/20\n",
      "\u001b[1m750/750\u001b[0m \u001b[32m━━━━━━━━━━━━━━━━━━━━\u001b[0m\u001b[37m\u001b[0m \u001b[1m10s\u001b[0m 14ms/step - acc: 0.9864 - loss: 0.0577 - val_acc: 0.9330 - val_loss: 0.2997\n"
     ]
    }
   ],
   "source": [
    "history_4 = model_4.fit(train_x, train_y, epochs=20, batch_size=8, validation_data=(val_x, val_y), callbacks=early_stopping)"
   ]
  },
  {
   "cell_type": "code",
   "execution_count": 45,
   "id": "11cac586-b249-4a2f-abb9-58692f81d71f",
   "metadata": {},
   "outputs": [
    {
     "data": {
      "image/png": "[encoded data removed]",
      "text/plain": [
       "<Figure size 640x480 with 1 Axes>"
      ]
     },
     "metadata": {},
     "output_type": "display_data"
    }
   ],
   "source": [
    "plot_losses(history_4)"
   ]
  },
  {
   "cell_type": "markdown",
   "id": "d6f5229d-3733-4c95-a16b-f615bdcd171e",
   "metadata": {
    "tags": []
   },
   "source": [
    "### Conclusion: Increasing the value for recurrent dropout impairs performance"
   ]
  },
  {
   "cell_type": "markdown",
   "id": "bfccaff2-ee0b-4079-be0e-06e79b3fbecc",
   "metadata": {},
   "source": [
    "# Get Metrics on Test Set"
   ]
  },
  {
   "cell_type": "code",
   "execution_count": 46,
   "id": "e3594a07-aaaa-4261-b58f-130a367553f9",
   "metadata": {},
   "outputs": [],
   "source": [
    "from sklearn.metrics import classification_report, accuracy_score"
   ]
  },
  {
   "cell_type": "code",
   "execution_count": 47,
   "id": "119d7e8e-3424-4045-90d3-747afb442786",
   "metadata": {},
   "outputs": [
    {
     "name": "stdout",
     "output_type": "stream",
     "text": [
      "\u001b[1m32/32\u001b[0m \u001b[32m━━━━━━━━━━━━━━━━━━━━\u001b[0m\u001b[37m\u001b[0m \u001b[1m0s\u001b[0m 9ms/step\n",
      "              precision    recall  f1-score   support\n",
      "\n",
      "           0     0.9476    0.9400    0.9438       250\n",
      "           1     0.9317    0.9280    0.9299       250\n",
      "           2     0.9368    0.9480    0.9423       250\n",
      "           3     0.9640    0.9640    0.9640       250\n",
      "\n",
      "    accuracy                         0.9450      1000\n",
      "   macro avg     0.9450    0.9450    0.9450      1000\n",
      "weighted avg     0.9450    0.9450    0.9450      1000\n",
      "\n",
      "Accuracy: 0.9450\n"
     ]
    }
   ],
   "source": [
    "y_pred = model_1.predict(test_x)\n",
    "\n",
    "# Get Label with highest probability\n",
    "y_pred = y_pred.argmax(axis=1)  \n",
    "\n",
    "# Generate classification report\n",
    "report = classification_report(test_y, y_pred, digits=4)  \n",
    "accuracy = accuracy_score(test_y, y_pred)  \n",
    "\n",
    "print(report)\n",
    "print(f\"Accuracy: {accuracy:.4f}\")"
   ]
  }
 ],
 "metadata": {
  "kernelspec": {
   "display_name": "Python (tensorflow)",
   "language": "python",
   "name": "tensorflow"
  },
  "language_info": {
   "codemirror_mode": {
    "name": "ipython",
    "version": 3
   },
   "file_extension": ".py",
   "mimetype": "text/x-python",
   "name": "python",
   "nbconvert_exporter": "python",
   "pygments_lexer": "ipython3",
   "version": "3.10.12"
  }
 },
 "nbformat": 4,
 "nbformat_minor": 5
}
