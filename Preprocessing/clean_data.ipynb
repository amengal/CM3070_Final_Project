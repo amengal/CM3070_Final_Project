{
 "cells": [
  {
   "cell_type": "markdown",
   "id": "a161f5fc-78c3-4eeb-a171-d97fc02e7bb4",
   "metadata": {},
   "source": [
    "## Read File to Dataframe"
   ]
  },
  {
   "cell_type": "code",
   "execution_count": 3,
   "id": "7b89d12b-a249-4eb4-914a-fede5e08d45a",
   "metadata": {},
   "outputs": [],
   "source": [
    "input_file = \"original.csv\""
   ]
  },
  {
   "cell_type": "code",
   "execution_count": 4,
   "id": "ee802c2f-2bf4-4c03-8bf4-ac7b48b1a722",
   "metadata": {},
   "outputs": [],
   "source": [
    "import pandas as pd"
   ]
  },
  {
   "cell_type": "code",
   "execution_count": 5,
   "id": "c7cfbeb9-85a5-4d28-8b0b-b76fc1caaddb",
   "metadata": {},
   "outputs": [],
   "source": [
    "df = pd.read_csv(input_file)"
   ]
  },
  {
   "cell_type": "code",
   "execution_count": 6,
   "id": "1f62c378-f0ab-4bd1-a289-d09312c51aa1",
   "metadata": {},
   "outputs": [
    {
     "data": {
      "text/plain": [
       "(111861, 8)"
      ]
     },
     "execution_count": 6,
     "metadata": {},
     "output_type": "execute_result"
    }
   ],
   "source": [
    "df.shape"
   ]
  },
  {
   "cell_type": "markdown",
   "id": "c1679d0c-05cf-48be-9d00-9f9bfa805e33",
   "metadata": {},
   "source": [
    "### Select Stratified Random Sample of 8000"
   ]
  },
  {
   "cell_type": "code",
   "execution_count": 7,
   "id": "bea4e61f-da5b-4113-857a-c3c1d3e76026",
   "metadata": {},
   "outputs": [],
   "source": [
    "groupby = df.groupby(\"Category\", group_keys=False)"
   ]
  },
  {
   "cell_type": "code",
   "execution_count": 8,
   "id": "69798877-5711-40f3-9c0e-266631baa4cd",
   "metadata": {},
   "outputs": [],
   "source": [
    "sample_df = groupby.apply(lambda x: x.sample(n=2000, random_state= 91))"
   ]
  },
  {
   "cell_type": "code",
   "execution_count": 9,
   "id": "b4d2b7ca-085d-4b88-82fe-2089c335bf53",
   "metadata": {},
   "outputs": [],
   "source": [
    "sample_df.drop(columns=[\"Index\"], inplace=True)"
   ]
  },
  {
   "cell_type": "code",
   "execution_count": 10,
   "id": "169c8746-a5ec-4530-8b37-10676dd248bc",
   "metadata": {},
   "outputs": [],
   "source": [
    "sample_df = sample_df.reset_index(drop=True)"
   ]
  },
  {
   "cell_type": "code",
   "execution_count": 11,
   "id": "35479352-a3db-4115-93e5-1fce2bc60e38",
   "metadata": {},
   "outputs": [
    {
     "data": {
      "text/plain": [
       "(8000, 7)"
      ]
     },
     "execution_count": 11,
     "metadata": {},
     "output_type": "execute_result"
    }
   ],
   "source": [
    "sample_df.shape"
   ]
  },
  {
   "cell_type": "code",
   "execution_count": 12,
   "id": "e49157e4-3bd8-4606-a33a-f2720b095d49",
   "metadata": {},
   "outputs": [
    {
     "data": {
      "text/plain": [
       "Business & Economics    2000\n",
       "Entertainment           2000\n",
       "Science & Technology    2000\n",
       "Sports                  2000\n",
       "Name: Category, dtype: int64"
      ]
     },
     "execution_count": 12,
     "metadata": {},
     "output_type": "execute_result"
    }
   ],
   "source": [
    "sample_df[\"Category\"].value_counts()"
   ]
  },
  {
   "cell_type": "markdown",
   "id": "a1355302-8d56-47eb-a7d8-23109a10ae98",
   "metadata": {},
   "source": [
    "## Fix Spacing around English Numerals"
   ]
  },
  {
   "cell_type": "code",
   "execution_count": 13,
   "id": "b13f7b52-6921-4963-ad74-472b55ac8f6b",
   "metadata": {},
   "outputs": [],
   "source": [
    "import re"
   ]
  },
  {
   "cell_type": "code",
   "execution_count": 14,
   "id": "f51f639f-5864-45a7-80c8-a1a22abfd369",
   "metadata": {},
   "outputs": [],
   "source": [
    "def fix_spacing(text):\n",
    "    # Add space before numbers\n",
    "    fixed_text = re.sub(r'(\\D)(\\d+)', r'\\1 \\2', text)  \n",
    "    # Add space after numbers\n",
    "    fixed_text = re.sub(r'(\\d+)(\\D)', r'\\1 \\2', fixed_text)  \n",
    "    return fixed_text"
   ]
  },
  {
   "cell_type": "markdown",
   "id": "cc577cdb-cf5f-40e0-b192-a461532df010",
   "metadata": {},
   "source": [
    "## Convert English Numerals to Arabic"
   ]
  },
  {
   "cell_type": "code",
   "execution_count": 15,
   "id": "d3ca3560-af11-4e59-b81a-ee0ed7cee22c",
   "metadata": {},
   "outputs": [
    {
     "data": {
      "text/plain": [
       "'١٢٤'"
      ]
     },
     "execution_count": 15,
     "metadata": {},
     "output_type": "execute_result"
    }
   ],
   "source": [
    "# following code has been taken from: https://stackoverflow.com/questions/26626238/how-to-convert-normal-numbers-into-arabic-numbers-in-django\n",
    "def en_to_ar_num(number_string):\n",
    "    dic = {\n",
    "        '0': '۰',\n",
    "        '1': '١',\n",
    "        '2': '٢',\n",
    "        '3': '۳',\n",
    "        '4': '٤',\n",
    "        '5': '۵',\n",
    "        '6': '٦',\n",
    "        '7': '۷',\n",
    "        '8': '۸',\n",
    "        '9': '۹',\n",
    "    }\n",
    "\n",
    "    return \"\".join([dic[char] for char in number_string])\n",
    "\n",
    "en_to_ar_num(\"124\") # ١٢٤"
   ]
  },
  {
   "cell_type": "code",
   "execution_count": 16,
   "id": "d72b180a-5343-438a-91b7-8c9646e80269",
   "metadata": {},
   "outputs": [],
   "source": [
    "def replace_numerals(text):\n",
    "    # Regular expression to match sequences of digits\n",
    "    return re.sub(r'\\d+', lambda match: en_to_ar_num(match.group(0)), text)"
   ]
  },
  {
   "cell_type": "markdown",
   "id": "ef1132dc-e99c-4742-a2ba-4457012ce0b4",
   "metadata": {},
   "source": [
    "## Remove Non-Alphanumeric Symbols"
   ]
  },
  {
   "cell_type": "code",
   "execution_count": 17,
   "id": "d3bfdedf-5fe9-4179-bbce-1ea5b7d4ad69",
   "metadata": {},
   "outputs": [],
   "source": [
    "def remove_non_alpha(text):\n",
    "    # Regular expression to match any non-alphanumeric character\n",
    "    return re.sub(r'[^\\w\\s]', \"\", text)"
   ]
  },
  {
   "cell_type": "markdown",
   "id": "dc8fc3c7-8c9e-407a-a429-5cf09bf23bc1",
   "metadata": {},
   "source": [
    "## Remove Extra Whitespaces"
   ]
  },
  {
   "cell_type": "code",
   "execution_count": 18,
   "id": "372decb6-3df5-4902-a627-8a2ba32423f5",
   "metadata": {},
   "outputs": [],
   "source": [
    "def remove_extra_spaces(text):\n",
    "    # Replace multiple spaces with a single space and strip leading/trailing spaces\n",
    "    return re.sub(r'\\s+', ' ', text).strip()"
   ]
  },
  {
   "cell_type": "markdown",
   "id": "2ab542c6-0dac-48a7-b395-10350e6501a0",
   "metadata": {},
   "source": [
    "## Check for Remaining Non-Urdu Characters"
   ]
  },
  {
   "cell_type": "code",
   "execution_count": 19,
   "id": "803924a2-67aa-4032-8f34-d9036735019c",
   "metadata": {},
   "outputs": [],
   "source": [
    "def is_urdu (char):\n",
    "    #to avoid removal of whitespace\n",
    "    if char == ' ':\n",
    "        return True\n",
    "    \n",
    "    unicode_range = ('\\u0600', '\\u06FF')\n",
    "    return (unicode_range[0] <= char <= unicode_range[1])"
   ]
  },
  {
   "cell_type": "markdown",
   "id": "aa6b9c22-bade-4f8b-8c0f-f9217a410b52",
   "metadata": {},
   "source": [
    "### Remove Non-Urdu Characters (if any)"
   ]
  },
  {
   "cell_type": "code",
   "execution_count": 20,
   "id": "1444668f-2a92-4277-bfbd-f2c3d2dfd26c",
   "metadata": {},
   "outputs": [],
   "source": [
    "def remove_non_urdu (text):\n",
    "    cleaned_string = ''.join([char for char in text if is_urdu(char)])\n",
    "    return cleaned_string"
   ]
  },
  {
   "cell_type": "markdown",
   "id": "fd8b311a-4ba9-4093-9398-b7a377ad2b1e",
   "metadata": {},
   "source": [
    "## Remove Stop Words"
   ]
  },
  {
   "cell_type": "code",
   "execution_count": 21,
   "id": "bc74a491-a0b6-4278-91da-79b94e52503b",
   "metadata": {},
   "outputs": [],
   "source": [
    "with open (\"urdu_stopwords.txt\", \"r\", encoding=\"utf-8\") as file:\n",
    "    lines = file.readlines()\n",
    "\n",
    "stop_words = [line.strip() for line in lines]"
   ]
  },
  {
   "cell_type": "code",
   "execution_count": 22,
   "id": "e79f660b-3abb-4ab3-a1c4-d993a8cf54aa",
   "metadata": {},
   "outputs": [],
   "source": [
    "def remove_stop_words (example):\n",
    "    output = [word for word in example.split() if word not in stop_words]\n",
    "    output = \" \".join(output)\n",
    "    return output  "
   ]
  },
  {
   "cell_type": "markdown",
   "id": "9cd9f9ac-1cd5-42fe-a37f-a1f56d01d605",
   "metadata": {},
   "source": [
    "# Apply Transformations to Sampled Set"
   ]
  },
  {
   "cell_type": "code",
   "execution_count": 23,
   "id": "3df6a715-421b-4463-b449-af13ddf1ac12",
   "metadata": {},
   "outputs": [],
   "source": [
    "def apply_functions(df):\n",
    "    # Apply each function sequentially to the 'News Text' column\n",
    "    df['News Text'] = df['News Text'].apply(fix_spacing)\n",
    "    df['News Text'] = df['News Text'].apply(replace_numerals)\n",
    "    df['News Text'] = df['News Text'].apply(remove_non_alpha)\n",
    "    df['News Text'] = df['News Text'].apply(remove_extra_spaces)\n",
    "    df['News Text'] = df['News Text'].apply(remove_non_urdu)\n",
    "    df['News Text'] = df['News Text'].apply(remove_stop_words)\n",
    "    return df"
   ]
  },
  {
   "cell_type": "code",
   "execution_count": 24,
   "id": "b29f9b5a-c8dc-4287-9d0f-1d6665c923d6",
   "metadata": {},
   "outputs": [],
   "source": [
    "sample_df = apply_functions(sample_df)"
   ]
  },
  {
   "cell_type": "markdown",
   "id": "11f7d0e5-152b-441f-918e-b520851d3412",
   "metadata": {},
   "source": [
    "## Split Into Train, Validation and Test Sets"
   ]
  },
  {
   "cell_type": "code",
   "execution_count": 25,
   "id": "0009d404-677a-46d7-81b3-47bab3a3d2ac",
   "metadata": {},
   "outputs": [],
   "source": [
    "from sklearn.model_selection import train_test_split"
   ]
  },
  {
   "cell_type": "code",
   "execution_count": 26,
   "id": "26b1938e-a817-4507-807b-cd08f0b76874",
   "metadata": {},
   "outputs": [],
   "source": [
    "train_df, temp_df = train_test_split (sample_df, test_size=0.25, stratify=sample_df[\"Category\"], random_state=1)"
   ]
  },
  {
   "cell_type": "code",
   "execution_count": 27,
   "id": "229bada6-4425-41ee-bd01-44ac67420436",
   "metadata": {},
   "outputs": [
    {
     "data": {
      "text/plain": [
       "Science & Technology    1500\n",
       "Business & Economics    1500\n",
       "Sports                  1500\n",
       "Entertainment           1500\n",
       "Name: Category, dtype: int64"
      ]
     },
     "execution_count": 27,
     "metadata": {},
     "output_type": "execute_result"
    }
   ],
   "source": [
    "train_df[\"Category\"].value_counts()"
   ]
  },
  {
   "cell_type": "code",
   "execution_count": 28,
   "id": "b2ea8335-14a4-44d1-a08e-d0e7e4595564",
   "metadata": {},
   "outputs": [],
   "source": [
    "val_df, test_df = train_test_split(temp_df, test_size=0.5, stratify=temp_df[\"Category\"], random_state=2)"
   ]
  },
  {
   "cell_type": "code",
   "execution_count": 29,
   "id": "5c07bd05-0196-43df-9383-a74021f9d70b",
   "metadata": {},
   "outputs": [
    {
     "data": {
      "text/plain": [
       "Science & Technology    250\n",
       "Sports                  250\n",
       "Business & Economics    250\n",
       "Entertainment           250\n",
       "Name: Category, dtype: int64"
      ]
     },
     "execution_count": 29,
     "metadata": {},
     "output_type": "execute_result"
    }
   ],
   "source": [
    "val_df[\"Category\"].value_counts()"
   ]
  },
  {
   "cell_type": "code",
   "execution_count": 30,
   "id": "8e67cb48-1665-4d56-b064-1f898e324164",
   "metadata": {},
   "outputs": [
    {
     "data": {
      "text/plain": [
       "Entertainment           250\n",
       "Science & Technology    250\n",
       "Business & Economics    250\n",
       "Sports                  250\n",
       "Name: Category, dtype: int64"
      ]
     },
     "execution_count": 30,
     "metadata": {},
     "output_type": "execute_result"
    }
   ],
   "source": [
    "test_df[\"Category\"].value_counts()"
   ]
  },
  {
   "cell_type": "markdown",
   "id": "9fa339a6-1d10-42d1-9f83-d231da4e47b1",
   "metadata": {},
   "source": [
    "### Write to File"
   ]
  },
  {
   "cell_type": "code",
   "execution_count": 31,
   "id": "0660ad76-e0eb-4d5e-935e-6297c3cc671b",
   "metadata": {},
   "outputs": [],
   "source": [
    "train_df.to_csv(\"train_set.csv\", index=False)\n",
    "val_df.to_csv(\"val_set.csv\", index=False)\n",
    "test_df.to_csv(\"test_set.csv\", index=False)"
   ]
  },
  {
   "cell_type": "code",
   "execution_count": null,
   "id": "519722e0-341b-42b7-bc3c-bc12b1f0b0c7",
   "metadata": {},
   "outputs": [],
   "source": []
  }
 ],
 "metadata": {
  "kernelspec": {
   "display_name": "Python 3 (ipykernel)",
   "language": "python",
   "name": "python3"
  },
  "language_info": {
   "codemirror_mode": {
    "name": "ipython",
    "version": 3
   },
   "file_extension": ".py",
   "mimetype": "text/x-python",
   "name": "python",
   "nbconvert_exporter": "python",
   "pygments_lexer": "ipython3",
   "version": "3.10.12"
  }
 },
 "nbformat": 4,
 "nbformat_minor": 5
}
